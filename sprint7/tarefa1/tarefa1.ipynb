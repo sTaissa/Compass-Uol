{
 "cells": [
  {
   "cell_type": "code",
   "execution_count": 5,
   "metadata": {},
   "outputs": [],
   "source": [
    "#importa pandas e lê o arquivo\n",
    "import pandas as pd\n",
    "\n",
    "actors = pd.read_csv(\"./actors.csv\", sep=\",\")"
   ]
  },
  {
   "cell_type": "code",
   "execution_count": 7,
   "metadata": {},
   "outputs": [
    {
     "name": "stdout",
     "output_type": "stream",
     "text": [
      "O ator/atriz com maior número de filmes é Robert DeNiro com 79 filmes\n"
     ]
    }
   ],
   "source": [
    "# 1- Identifique o ator/atriz com maior número de filmes e o respectivo número de filmes\n",
    "# identifica o ator (ou atores caso haja mais de um) com o maior número de filmes\n",
    "maiores = actors.nlargest(1, \"Number of Movies\", keep=\"all\")\n",
    "ator = maiores['Actor'].values\n",
    "filmes = maiores['Number of Movies'].values\n",
    "\n",
    "# printa os valores pedidos\n",
    "for nome in ator:\n",
    "    print(\"O ator/atriz com maior número de filmes é {} com {} filmes\".format(nome, str(filmes[0])))"
   ]
  },
  {
   "cell_type": "code",
   "execution_count": 8,
   "metadata": {},
   "outputs": [
    {
     "name": "stdout",
     "output_type": "stream",
     "text": [
      "A média do número de filmes é: 37.88 \n",
      "\n"
     ]
    }
   ],
   "source": [
    "# 2- Apresente a média da coluna contendo o número de filmes\n",
    "media = actors['Number of Movies'].mean()\n",
    "\n",
    "# printa os valores pedidos\n",
    "print(\"A média do número de filmes é:\", media, \"\\n\")"
   ]
  },
  {
   "cell_type": "code",
   "execution_count": 9,
   "metadata": {},
   "outputs": [
    {
     "name": "stdout",
     "output_type": "stream",
     "text": [
      "O ator/atriz com maior média por filme é Anthony Daniels\n"
     ]
    }
   ],
   "source": [
    "# 3- Apresente o nome do ator/atriz com a maior média por filme\n",
    "maiores = actors.nlargest(1, \"Average per Movie\", keep=\"all\")\n",
    "ator = maiores['Actor'].values\n",
    "\n",
    "# exibe os dados no formato pedido\n",
    "for nome in ator:\n",
    "    print(\"O ator/atriz com maior média por filme é\", nome)"
   ]
  },
  {
   "cell_type": "code",
   "execution_count": 10,
   "metadata": {},
   "outputs": [
    {
     "name": "stdout",
     "output_type": "stream",
     "text": [
      "1 - O filme The Avengers aparece 6 vez(es) no dataset\n",
      "2 - O filme Catching Fire aparece 4 vez(es) no dataset\n",
      "3 - O filme Harry Potter / Deathly Hallows (P2) aparece 4 vez(es) no dataset\n",
      "4 - O filme Star Wars: The Force Awakens aparece 3 vez(es) no dataset\n",
      "5 - O filme The Dark Knight aparece 3 vez(es) no dataset\n",
      "6 - O filme Meet the Fockers aparece 3 vez(es) no dataset\n",
      "7 - O filme Avengers: Age of Ultron aparece 2 vez(es) no dataset\n",
      "8 - O filme Return of the King aparece 2 vez(es) no dataset\n",
      "9 - O filme Night at the Museum aparece 2 vez(es) no dataset\n",
      "10 - O filme Dead Man's Chest aparece 2 vez(es) no dataset\n",
      "11 - O filme Shrek 2 aparece 2 vez(es) no dataset\n",
      "12 - O filme The Grinch aparece 1 vez(es) no dataset\n",
      "13 - O filme World War Z aparece 1 vez(es) no dataset\n",
      "14 - O filme Transformers 4 aparece 1 vez(es) no dataset\n",
      "15 - O filme American Sniper aparece 1 vez(es) no dataset\n",
      "16 - O filme Titanic aparece 1 vez(es) no dataset\n",
      "17 - O filme Minions aparece 1 vez(es) no dataset\n",
      "18 - O filme The LEGO Movie aparece 1 vez(es) no dataset\n",
      "19 - O filme Hotel Transylvania 2 aparece 1 vez(es) no dataset\n",
      "20 - O filme The Phantom Menace aparece 1 vez(es) no dataset\n",
      "21 - O filme Men in Black aparece 1 vez(es) no dataset\n",
      "22 - O filme Ocean's Eleven aparece 1 vez(es) no dataset\n",
      "23 - O filme The Martian aparece 1 vez(es) no dataset\n",
      "24 - O filme Independence Day aparece 1 vez(es) no dataset\n",
      "25 - O filme Sixth Sense aparece 1 vez(es) no dataset\n",
      "26 - O filme War of the Worlds aparece 1 vez(es) no dataset\n",
      "27 - O filme Toy Story 3 aparece 1 vez(es) no dataset\n",
      "28 - O filme The Dark Knight Rises aparece 1 vez(es) no dataset\n"
     ]
    }
   ],
   "source": [
    "# 4- Apresente o nome do(s) filme(s) mais frequente(s) e sua respectiva frequência\n",
    "# conta a quantidade de vezes que cada filme aparece, já em ordem decrescente\n",
    "freq = actors['#1 Movie'].value_counts()\n",
    "\n",
    "# exibe os dados no formato pedido\n",
    "c = 1\n",
    "for filme, f in freq.items():\n",
    "    print(\"{} - O filme {} aparece {} vez(es) no dataset\".format(c, filme, f))\n",
    "    c += 1"
   ]
  }
 ],
 "metadata": {
  "kernelspec": {
   "display_name": "Python 3",
   "language": "python",
   "name": "python3"
  },
  "language_info": {
   "codemirror_mode": {
    "name": "ipython",
    "version": 3
   },
   "file_extension": ".py",
   "mimetype": "text/x-python",
   "name": "python",
   "nbconvert_exporter": "python",
   "pygments_lexer": "ipython3",
   "version": "3.11.3"
  },
  "orig_nbformat": 4
 },
 "nbformat": 4,
 "nbformat_minor": 2
}
