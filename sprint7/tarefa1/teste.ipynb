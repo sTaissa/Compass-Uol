{
 "cells": [
  {
   "cell_type": "code",
   "execution_count": 148,
   "metadata": {},
   "outputs": [
    {
     "name": "stdout",
     "output_type": "stream",
     "text": [
      "Exercício 1\n",
      "Ator com maior número de filmes: Robert DeNiro\n",
      "Número de filmes: 79 \n",
      "\n",
      "Exercício 2\n",
      "Média do número de filmes dos atores: 37.88 \n",
      "\n",
      "Exercício 3\n",
      "Ator com maior média por filme: Anthony Daniels\n",
      "\n",
      "Exercício 4\n",
      "Filme mais frequente: The Avengers\n",
      "Frequência: 6\n"
     ]
    },
    {
     "data": {
      "text/plain": [
       "#1 Movie\n",
       "The Avengers    6\n",
       "Name: Actor, dtype: int64"
      ]
     },
     "execution_count": 148,
     "metadata": {},
     "output_type": "execute_result"
    }
   ],
   "source": [
    "# extrai os dados do arquivo\n",
    "import pandas as pd\n",
    "def extrai():\n",
    "    actors = pd.read_csv(\"./actors.csv\", sep=\",\")\n",
    "    return actors\n",
    "\n",
    "# 1- Identifique o ator/atriz com maior número de filmes e o respectivo número de filmes\n",
    "def mais_filmes(dados):\n",
    "    # identifica o ator (ou atores) com o maior número de filmes\n",
    "    maiores = dados.nlargest(1, \"Number of Movies\", keep=\"all\")\n",
    "    ator = maiores['Actor'].values\n",
    "    filmes = maiores['Number of Movies'].values\n",
    "\n",
    "    # printa os valores pedidos\n",
    "    print(\"Exercício 1\")\n",
    "    print(\"Ator com maior número de filmes: \", end='')\n",
    "    for nome in ator:\n",
    "        print(nome)\n",
    "    print(\"Número de filmes:\", filmes[0], \"\\n\")\n",
    "\n",
    "    # retorna o dataframe com o nome e número de filmes para possível uso\n",
    "    return maiores[['Actor', 'Number of Movies']]\n",
    "\n",
    "# 2- Apresente a média da coluna contendo o número de filmes\n",
    "def media_filmes(dados):\n",
    "    media = dados['Number of Movies'].mean()\n",
    "\n",
    "    # printa os valores pedidos\n",
    "    print(\"Exercício 2\")\n",
    "    print(\"Média do número de filmes dos atores:\", media, \"\\n\")\n",
    "\n",
    "    return media    \n",
    "\n",
    "# 3- Apresente o nome do ator/atriz com a maior média por filme\n",
    "def maior_media(dados):\n",
    "    # identifica o ator (ou atores) com a maior média por filme\n",
    "    maiores = dados.nlargest(1, \"Average per Movie\", keep=\"all\")\n",
    "    ator = maiores['Actor'].values\n",
    "\n",
    "    print(\"Exercício 3\")\n",
    "    print(\"Ator com maior média por filme: \", end='')\n",
    "    for nome in ator:\n",
    "        print(nome)\n",
    "    print()\n",
    "    # retorna a linha com o nome do ator \n",
    "    return ator\n",
    "\n",
    "# 4- Apresente o nome do(s) filme(s) mais frequente(s) e sua respectiva frequência\n",
    "def filme_frequente(dados):\n",
    "    # agrupa pela coluna '#1 Movie', o filme (ou filmes) que tiver maior contagem de atores é o mais frequente\n",
    "    freq = dados.groupby('#1 Movie').count()\n",
    "    maiores = freq.nlargest(1, \"Actor\", keep=\"all\")\n",
    "    filme = maiores['Actor']\n",
    "\n",
    "    print(\"Exercício 4\")\n",
    "    print(\"Filme mais frequente: \", end='')\n",
    "    for freq in filme.index:\n",
    "        print(freq)\n",
    "    print(\"Frequência:\", filme[0])\n",
    "    return filme\n",
    "\n",
    "    \n",
    "\n",
    "dados = extrai()\n",
    "mais_filmes(dados)\n",
    "media_filmes(dados)\n",
    "maior_media(dados)\n",
    "filme_frequente(dados)"
   ]
  }
 ],
 "metadata": {
  "kernelspec": {
   "display_name": "myenv",
   "language": "python",
   "name": "python3"
  },
  "language_info": {
   "codemirror_mode": {
    "name": "ipython",
    "version": 3
   },
   "file_extension": ".py",
   "mimetype": "text/x-python",
   "name": "python",
   "nbconvert_exporter": "python",
   "pygments_lexer": "ipython3",
   "version": "3.10.10"
  },
  "orig_nbformat": 4
 },
 "nbformat": 4,
 "nbformat_minor": 2
}
