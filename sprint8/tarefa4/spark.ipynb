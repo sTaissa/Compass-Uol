{
 "cells": [
  {
   "cell_type": "code",
   "execution_count": 80,
   "id": "ef3f0944",
   "metadata": {},
   "outputs": [
    {
     "name": "stdout",
     "output_type": "stream",
     "text": [
      "+----------------+\n",
      "|             _c0|\n",
      "+----------------+\n",
      "|  Frances Bennet|\n",
      "|   Jamie Russell|\n",
      "|  Edward Kistler|\n",
      "|   Sheila Maurer|\n",
      "|Donald Golightly|\n",
      "+----------------+\n",
      "only showing top 5 rows\n",
      "\n"
     ]
    }
   ],
   "source": [
    "#1- adicione código para ler o arquivo nomes_aleatorios.txt através do comando spark.read.csv. Carregue-o para dentro de um \n",
    "#dataframe chamado df_nomes e, por fim, liste algumas linhas através do método show. Exemplo: df_nomes.show(5)\n",
    "\n",
    "from pyspark.sql import SparkSession\n",
    "from pyspark import SparkContext, SQLContext\n",
    "\n",
    "spark = SparkSession.builder.master(\"local[*]\").appName(\"Exercicio Intro\").getOrCreate()\n",
    "\n",
    "df_nomes = spark.read.csv('nomes_aleatorios.txt')\n",
    "df_nomes.show(5)"
   ]
  },
  {
   "cell_type": "code",
   "execution_count": 81,
   "id": "a16d3a0e",
   "metadata": {
    "scrolled": true
   },
   "outputs": [
    {
     "name": "stdout",
     "output_type": "stream",
     "text": [
      "root\n",
      " |-- Nomes: string (nullable = true)\n",
      "\n",
      "+-----------------+\n",
      "|            Nomes|\n",
      "+-----------------+\n",
      "|   Frances Bennet|\n",
      "|    Jamie Russell|\n",
      "|   Edward Kistler|\n",
      "|    Sheila Maurer|\n",
      "| Donald Golightly|\n",
      "|       David Gray|\n",
      "|      Joy Bennett|\n",
      "|      Paul Kriese|\n",
      "|Berniece Ornellas|\n",
      "|    Brian Farrell|\n",
      "+-----------------+\n",
      "only showing top 10 rows\n",
      "\n"
     ]
    }
   ],
   "source": [
    "#2- adicionar código para renomear a coluna para Nomes, imprimir o esquema e mostrar 10 linhas do dataframe\n",
    "\n",
    "df_nomes = df_nomes.withColumnRenamed(\"_c0\",\"Nomes\")\n",
    "df_nomes.printSchema()\n",
    "df_nomes.show(10)"
   ]
  },
  {
   "cell_type": "code",
   "execution_count": 82,
   "id": "b3e05c72",
   "metadata": {},
   "outputs": [],
   "source": [
    "#3- adicione nova coluna chamada Escolaridade e atribua para cada linha um dos três valores de forma aleatória: Fundamental, \n",
    "#Medio ou Superior\n",
    "\n",
    "from pyspark.sql.functions import *\n",
    "\n",
    "#divide 1 pela quantidade de possibilidades para poder usar as condições com os valores gerados por rand\n",
    "probabilidade = 1/3\n",
    "\n",
    "df_nomes = df_nomes.withColumn(\"Escolaridade\", when(rand() <= probabilidade, \"Fundamental\").when(rand() >= probabilidade*2, \"Médio\").otherwise(\"Superior\"))"
   ]
  },
  {
   "cell_type": "code",
   "execution_count": 83,
   "id": "929f1517",
   "metadata": {},
   "outputs": [],
   "source": [
    "#4- adicione nova coluna chamada Pais e atribua para cada linha o nome de um dos 13 países da América do Sul, de forma aleatória\n",
    "\n",
    "#divide 1 pela quantidade de possibilidades para poder usar as condições com os valores gerados por rand\n",
    "probabilidade = 1/13\n",
    "\n",
    "df_nomes = df_nomes.withColumn(\"Pais\", \n",
    "                               when(rand() <= probabilidade, \"Brasil\")\n",
    "                              .when(rand() <= probabilidade*2, \"Argentina\")\n",
    "                              .when(rand() <= probabilidade*3, \"Colômbia\")\n",
    "                              .when(rand() <= probabilidade*4, \"Peru\")\n",
    "                              .when(rand() <= probabilidade*5, \"Chile\")\n",
    "                              .when(rand() <= probabilidade*6, \"Equador\")\n",
    "                              .when(rand() <= probabilidade*7, \"Venezuela\")\n",
    "                              .when(rand() <= probabilidade*8, \"Bolívia\")\n",
    "                              .when(rand() <= probabilidade*9, \"Guiana\")\n",
    "                              .when(rand() <= probabilidade*10, \"Uruguai\")\n",
    "                              .when(rand() <= probabilidade*11, \"Suriname\")\n",
    "                              .when(rand() <= probabilidade*12, \"Paraguai\")\n",
    "                              .otherwise(\"Guiana Francesa\"))"
   ]
  },
  {
   "cell_type": "code",
   "execution_count": 84,
   "id": "d524e4bf",
   "metadata": {},
   "outputs": [],
   "source": [
    "#5- adicione nova coluna chamada AnoNascimento e atribua para cada linha um valor de ano entre 1945 e 2010, de forma aleatória\n",
    "\n",
    "df_nomes = df_nomes.withColumn(\"AnoNascimento\", floor(rand() * (2010 - 1945) + 1945))                                                     "
   ]
  },
  {
   "cell_type": "code",
   "execution_count": 85,
   "id": "c0b94c91",
   "metadata": {},
   "outputs": [
    {
     "name": "stdout",
     "output_type": "stream",
     "text": [
      "+-----------------+\n",
      "|            Nomes|\n",
      "+-----------------+\n",
      "|    Jamie Russell|\n",
      "|    Tracy Herring|\n",
      "|     David Medina|\n",
      "|  Helen Blackwell|\n",
      "|      Jessie Jean|\n",
      "|      Donald Vogt|\n",
      "|      Hugo Dayton|\n",
      "|Marguerite Rankin|\n",
      "| Maurice Blizzard|\n",
      "|George Fiorentino|\n",
      "+-----------------+\n",
      "only showing top 10 rows\n",
      "\n"
     ]
    }
   ],
   "source": [
    "#6- Usando o método select do dataframe (df_nomes), selecione as pessoas que nasceram neste século. Armazene o resultado em \n",
    "#outro dataframe chamado df_select e mostre 10 nomes deste\n",
    "\n",
    "df_select = df_nomes.select(\"*\").filter(df_nomes[\"AnoNascimento\"] >= 2000)\n",
    "df_select.select(\"Nomes\").show(10)"
   ]
  },
  {
   "cell_type": "code",
   "execution_count": 86,
   "id": "12a7954e",
   "metadata": {},
   "outputs": [
    {
     "name": "stdout",
     "output_type": "stream",
     "text": [
      "+-----------------+\n",
      "|            Nomes|\n",
      "+-----------------+\n",
      "|    Jamie Russell|\n",
      "|    Tracy Herring|\n",
      "|     David Medina|\n",
      "|  Helen Blackwell|\n",
      "|      Jessie Jean|\n",
      "|      Donald Vogt|\n",
      "|      Hugo Dayton|\n",
      "|Marguerite Rankin|\n",
      "| Maurice Blizzard|\n",
      "|George Fiorentino|\n",
      "+-----------------+\n",
      "only showing top 10 rows\n",
      "\n"
     ]
    }
   ],
   "source": [
    "#7- Usando Spark SQL repita o processo da Pergunta 6\n",
    "\n",
    "df_nomes.createOrReplaceTempView (\"pessoas\")\n",
    "spark.sql(\"SELECT Nomes FROM pessoas WHERE AnoNascimento >= 2000\").show(10)"
   ]
  },
  {
   "cell_type": "code",
   "execution_count": 87,
   "id": "7140b813",
   "metadata": {},
   "outputs": [
    {
     "name": "stderr",
     "output_type": "stream",
     "text": [
      "[Stage 98:>                                                         (0 + 4) / 4]\r"
     ]
    },
    {
     "name": "stdout",
     "output_type": "stream",
     "text": [
      "+-----------+\n",
      "|Millennials|\n",
      "+-----------+\n",
      "|    2307801|\n",
      "+-----------+\n",
      "\n"
     ]
    },
    {
     "name": "stderr",
     "output_type": "stream",
     "text": [
      "                                                                                \r"
     ]
    }
   ],
   "source": [
    "#8- Usando o método select do Dataframe df_nomes, Conte o número de pessoas que são da geração Millennials (nascidos entre 1980\n",
    "#e 1994) no Dataset\n",
    "\n",
    "df_nomes.select('*').filter(df_nomes['AnoNascimento'].between(1980, 1994)).agg(count('*').alias('Millennials')).show()"
   ]
  },
  {
   "cell_type": "code",
   "execution_count": 88,
   "id": "c4fbae59",
   "metadata": {},
   "outputs": [
    {
     "name": "stderr",
     "output_type": "stream",
     "text": [
      "[Stage 100:>                                                        (0 + 4) / 4]\r"
     ]
    },
    {
     "name": "stdout",
     "output_type": "stream",
     "text": [
      "+-----------+\n",
      "|Millennials|\n",
      "+-----------+\n",
      "|    2307801|\n",
      "+-----------+\n",
      "\n"
     ]
    },
    {
     "name": "stderr",
     "output_type": "stream",
     "text": [
      "                                                                                \r"
     ]
    }
   ],
   "source": [
    "#9- Repita o processo da Pergunta 8 utilizando Spark SQL\n",
    "\n",
    "spark.sql(\"SELECT COUNT(AnoNascimento) AS Millennials FROM pessoas WHERE AnoNascimento BETWEEN 1980 AND 1994\").show()"
   ]
  },
  {
   "cell_type": "code",
   "execution_count": 89,
   "id": "9ca287b8",
   "metadata": {},
   "outputs": [
    {
     "name": "stderr",
     "output_type": "stream",
     "text": [
      "[Stage 103:================================================>    (184 + 5) / 200]\r"
     ]
    },
    {
     "name": "stdout",
     "output_type": "stream",
     "text": [
      "+---------------+-------------------+----------+\n",
      "|           Pais|            Geracao|Quantidade|\n",
      "+---------------+-------------------+----------+\n",
      "|      Argentina|        BabyBoomers|    437240|\n",
      "|      Argentina|           GeracaoX|    327662|\n",
      "|      Argentina|GeracaoY/Millenials|    327202|\n",
      "|      Argentina|           GeracaoZ|    326486|\n",
      "|        Bolívia|        BabyBoomers|    120466|\n",
      "|        Bolívia|           GeracaoX|     89965|\n",
      "|        Bolívia|GeracaoY/Millenials|     90092|\n",
      "|        Bolívia|           GeracaoZ|     90027|\n",
      "|         Brasil|        BabyBoomers|    236288|\n",
      "|         Brasil|           GeracaoX|    177766|\n",
      "|         Brasil|GeracaoY/Millenials|    177066|\n",
      "|         Brasil|           GeracaoZ|    177520|\n",
      "|          Chile|        BabyBoomers|    492277|\n",
      "|          Chile|           GeracaoX|    369342|\n",
      "|          Chile|GeracaoY/Millenials|    369144|\n",
      "|          Chile|           GeracaoZ|    369540|\n",
      "|       Colômbia|        BabyBoomers|    555372|\n",
      "|       Colômbia|           GeracaoX|    415423|\n",
      "|       Colômbia|GeracaoY/Millenials|    417118|\n",
      "|       Colômbia|           GeracaoZ|    415714|\n",
      "|        Equador|        BabyBoomers|    363665|\n",
      "|        Equador|           GeracaoX|    272778|\n",
      "|        Equador|GeracaoY/Millenials|    272359|\n",
      "|        Equador|           GeracaoZ|    272963|\n",
      "|         Guiana|        BabyBoomers|     52225|\n",
      "|         Guiana|           GeracaoX|     38888|\n",
      "|         Guiana|GeracaoY/Millenials|     39330|\n",
      "|         Guiana|           GeracaoZ|     39313|\n",
      "|Guiana Francesa|        BabyBoomers|        65|\n",
      "|Guiana Francesa|           GeracaoX|        47|\n",
      "|Guiana Francesa|GeracaoY/Millenials|        56|\n",
      "|Guiana Francesa|           GeracaoZ|        33|\n",
      "|       Paraguai|        BabyBoomers|       759|\n",
      "|       Paraguai|           GeracaoX|       567|\n",
      "|       Paraguai|GeracaoY/Millenials|       557|\n",
      "|       Paraguai|           GeracaoZ|       548|\n",
      "|           Peru|        BabyBoomers|    569036|\n",
      "|           Peru|           GeracaoX|    427510|\n",
      "|           Peru|GeracaoY/Millenials|    426741|\n",
      "|           Peru|           GeracaoZ|    427260|\n",
      "|       Suriname|        BabyBoomers|      4528|\n",
      "|       Suriname|           GeracaoX|      3494|\n",
      "|       Suriname|GeracaoY/Millenials|      3452|\n",
      "|       Suriname|           GeracaoZ|      3357|\n",
      "|        Uruguai|        BabyBoomers|     17837|\n",
      "|        Uruguai|           GeracaoX|     13201|\n",
      "|        Uruguai|GeracaoY/Millenials|     13509|\n",
      "|        Uruguai|           GeracaoZ|     13108|\n",
      "|      Venezuela|        BabyBoomers|    227673|\n",
      "|      Venezuela|           GeracaoX|    170653|\n",
      "|      Venezuela|GeracaoY/Millenials|    171175|\n",
      "|      Venezuela|           GeracaoZ|    171603|\n",
      "+---------------+-------------------+----------+\n",
      "\n"
     ]
    },
    {
     "name": "stderr",
     "output_type": "stream",
     "text": [
      "                                                                                \r"
     ]
    }
   ],
   "source": [
    "#10- Usando Spark SQL, obtenha a quantidade de pessoas de cada país para uma das gerações abaixo. Armazene o resultado em um \n",
    "#novo dataframe e depois mostre todas as linhas em ordem crescente de Pais, Geração e Quantidade\n",
    "\n",
    "query = \"\"\"\n",
    "SELECT Pais, \n",
    "    CASE\n",
    "        WHEN AnoNascimento BETWEEN 1944 AND 1964 THEN 'BabyBoomers'\n",
    "        WHEN AnoNascimento BETWEEN 1965 AND 1979 THEN 'GeracaoX'\n",
    "        WHEN AnoNascimento BETWEEN 1980 AND 1994 THEN 'GeracaoY/Millenials'\n",
    "        WHEN AnoNascimento BETWEEN 1995 AND 2015 THEN 'GeracaoZ'\n",
    "    END AS Geracao,\n",
    "    COUNT(*) as Quantidade \n",
    "FROM pessoas \n",
    "GROUP BY Pais, Geracao\n",
    "ORDER BY Pais, Geracao, Quantidade\"\"\"\n",
    "\n",
    "df_geracao = spark.sql(query)\n",
    "#13 países * 4 gerações, o df tem 52 linhas\n",
    "df_geracao.select('*').orderBy('Pais', 'Geracao', 'Quantidade').show(52)"
   ]
  }
 ],
 "metadata": {
  "kernelspec": {
   "display_name": "Python 3 (ipykernel)",
   "language": "python",
   "name": "python3"
  },
  "language_info": {
   "codemirror_mode": {
    "name": "ipython",
    "version": 3
   },
   "file_extension": ".py",
   "mimetype": "text/x-python",
   "name": "python",
   "nbconvert_exporter": "python",
   "pygments_lexer": "ipython3",
   "version": "3.9.7"
  }
 },
 "nbformat": 4,
 "nbformat_minor": 5
}
