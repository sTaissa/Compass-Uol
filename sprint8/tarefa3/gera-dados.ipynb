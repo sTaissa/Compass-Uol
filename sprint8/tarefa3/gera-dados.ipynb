{
 "cells": [
  {
   "cell_type": "code",
   "execution_count": 38,
   "metadata": {},
   "outputs": [
    {
     "name": "stdout",
     "output_type": "stream",
     "text": [
      "[782, 364, 749, 861, 18, 24, 582, 601, 190, 788, 168, 124, 988, 267, 19, 312, 27, 588, 949, 574, 527, 602, 37, 115, 772, 742, 288, 374, 590, 42, 994, 602, 219, 948, 540, 22, 553, 955, 722, 654, 261, 486, 601, 262, 532, 633, 929, 875, 545, 36, 739, 537, 328, 436, 791, 685, 667, 403, 371, 310, 29, 811, 775, 319, 166, 873, 659, 161, 845, 42, 773, 969, 408, 777, 655, 820, 32, 254, 524, 317, 318, 487, 440, 688, 429, 218, 241, 518, 822, 56, 191, 247, 58, 255, 791, 167, 345, 828, 176, 93, 687, 258, 981, 312, 163, 175, 198, 741, 817, 800, 450, 227, 927, 246, 931, 531, 490, 428, 19, 601, 194, 425, 751, 861, 110, 457, 740, 964, 815, 191, 394, 621, 152, 825, 38, 980, 71, 252, 809, 586, 934, 546, 866, 291, 464, 951, 636, 339, 894, 966, 653, 482, 101, 464, 472, 246, 861, 195, 114, 310, 626, 478, 90, 9, 599, 812, 623, 209, 597, 174, 65, 528, 443, 503, 215, 600, 915, 161, 803, 472, 298, 846, 712, 316, 532, 166, 317, 157, 755, 232, 343, 774, 748, 323, 842, 862, 50, 898, 417, 99, 999, 904, 535, 852, 697, 525, 800, 148, 332, 988, 256, 116, 320, 619, 811, 180, 54, 985, 870, 471, 724, 634, 206, 656, 60, 132, 754, 917, 540, 29, 838, 451, 761, 900, 283, 356, 780, 131, 211, 680, 652, 984, 680, 289, 251, 32, 536, 898, 593, 469]\n"
     ]
    }
   ],
   "source": [
    "#1- [Warm up]  Em Python, declare e inicialize uma lista contendo 250 inteiros obtidos de forma aleatória. \n",
    "#Após, aplicar o método reverse sobre o conteúdo da lista e imprimir o resultado.\n",
    "import random\n",
    "\n",
    "random.seed(40)\n",
    "\n",
    "numeros = [n for n in range(0, 1000)]\n",
    "\n",
    "dados= [random.choice(numeros) for i in range(250)]\n",
    "\n",
    "dados.reverse()\n",
    "print(dados)"
   ]
  },
  {
   "cell_type": "code",
   "execution_count": 17,
   "metadata": {},
   "outputs": [
    {
     "name": "stdout",
     "output_type": "stream",
     "text": [
      "aranha\n",
      "borboleta\n",
      "cachorro\n",
      "cobra\n",
      "coelho\n",
      "elefante\n",
      "formiga\n",
      "gato\n",
      "girafa\n",
      "guaxinim\n",
      "hipopotamo\n",
      "lagartixa\n",
      "leão\n",
      "ornitorrinco\n",
      "pato\n",
      "peixe\n",
      "rato\n",
      "tartaruga\n",
      "tigre\n",
      "urso\n"
     ]
    }
   ],
   "source": [
    "#2- [Warm up] Em Python, declare e inicialize uma lista contendo o nome de 20 animais. Ordene-os em ordem crescente e itere sobre os itens, imprimindo um a\n",
    "#um (você pode utilizar list comprehension aqui). Na sequência, armazene o conteúdo da lista em um arquivo de texto, um item em cada linha, no formato CSV\n",
    "import csv\n",
    "\n",
    "animais = ['gato', 'cachorro', 'pato', 'coelho', 'tigre', 'tartaruga', 'peixe', 'elefante', 'girafa', 'cobra', 'ornitorrinco', 'lagartixa', 'rato', \n",
    "           'borboleta', 'aranha', 'leão', 'urso', 'formiga', 'guaxinim', 'hipopotamo']\n",
    "animais.sort()\n",
    "\n",
    "with open('./animais.csv', 'w', newline='', encoding='utf-8') as csvfile:\n",
    "    for animal in animais:\n",
    "        print(animal)\n",
    "        csv.writer(csvfile).writerow([animal])"
   ]
  },
  {
   "cell_type": "code",
   "execution_count": 37,
   "metadata": {},
   "outputs": [
    {
     "name": "stdout",
     "output_type": "stream",
     "text": [
      "Gerando 10000000 nomes aleatórios\n"
     ]
    }
   ],
   "source": [
    "#3- [Laboratório] Elaborar um código Python para gerar um dataset de nomes de pessoas\n",
    "import random\n",
    "import names\n",
    "\n",
    "# Define a semente de aleatoriedade\n",
    "random.seed(40)\n",
    "qtd_nomes_unicos = 3000\n",
    "qtd_nomes_aleatorios = 10000000\n",
    "\n",
    "aux=[]\n",
    "for i in range(0, qtd_nomes_unicos):\n",
    "    aux.append(names.get_full_name())\n",
    "\n",
    "print(\"Gerando {} nomes aleatórios\".format(qtd_nomes_aleatorios))\n",
    "\n",
    "dados=[]\n",
    "for i in range(0,qtd_nomes_aleatorios):\n",
    "    dados.append(random.choice(aux))\n",
    "\n",
    "with open(\"nomes_aleatorios.txt\", \"w\") as arquivo:\n",
    "\tfor nome in dados:\n",
    "            arquivo.write(nome + \"\\n\")"
   ]
  }
 ],
 "metadata": {
  "kernelspec": {
   "display_name": "Python 3",
   "language": "python",
   "name": "python3"
  },
  "language_info": {
   "codemirror_mode": {
    "name": "ipython",
    "version": 3
   },
   "file_extension": ".py",
   "mimetype": "text/x-python",
   "name": "python",
   "nbconvert_exporter": "python",
   "pygments_lexer": "ipython3",
   "version": "3.11.3"
  },
  "orig_nbformat": 4
 },
 "nbformat": 4,
 "nbformat_minor": 2
}
